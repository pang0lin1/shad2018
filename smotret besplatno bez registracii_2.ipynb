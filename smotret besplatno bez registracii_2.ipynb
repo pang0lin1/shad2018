{
 "cells": [
  {
   "cell_type": "code",
   "execution_count": 353,
   "metadata": {},
   "outputs": [],
   "source": [
    "import pandas as pd\n",
    "from collections import Counter\n",
    "import numpy as np\n",
    "import sys"
   ]
  },
  {
   "cell_type": "markdown",
   "metadata": {},
   "source": [
    "Загрузим данные"
   ]
  },
  {
   "cell_type": "code",
   "execution_count": 356,
   "metadata": {},
   "outputs": [],
   "source": [
    "data = pd.read_table(\"Log\", encoding='utf-8')"
   ]
  },
  {
   "cell_type": "code",
   "execution_count": 357,
   "metadata": {},
   "outputs": [
    {
     "data": {
      "text/plain": [
       "0    https://yandex.ru/search/?text=порно видео сек...\n",
       "1    https://yandex.ru/search/?text=sad story скача...\n",
       "2    https://yandex.ru/search/?text=ольгино баня&fl...\n",
       "3    https://yandex.ru/search/?text=фирменный магаз...\n",
       "4          https://yandex.ru/search/?text=порно&rl=313\n",
       "Name: request, dtype: object"
      ]
     },
     "execution_count": 357,
     "metadata": {},
     "output_type": "execute_result"
    }
   ],
   "source": [
    "data[\"request\"].head()"
   ]
  },
  {
   "cell_type": "markdown",
   "metadata": {},
   "source": [
    "Выделим запросы без url"
   ]
  },
  {
   "cell_type": "code",
   "execution_count": 358,
   "metadata": {},
   "outputs": [],
   "source": [
    "url_part = \"https://yandex.ru/search/?text=\"\n",
    "data[\"reduced_request\"] = data[\"request\"].apply(lambda x: x[len(url_part):])"
   ]
  },
  {
   "cell_type": "code",
   "execution_count": 359,
   "metadata": {},
   "outputs": [
    {
     "data": {
      "text/plain": [
       "0                           порно видео секс за деньги\n",
       "1    sad story скачать бесплатно mp3 в хорошем каче...\n",
       "2                              ольгино баня&flag=l6707\n",
       "3      фирменный магазин марко в г минске скидки акции\n",
       "4                                         порно&rl=313\n",
       "Name: reduced_request, dtype: object"
      ]
     },
     "execution_count": 359,
     "metadata": {},
     "output_type": "execute_result"
    }
   ],
   "source": [
    "data[\"reduced_request\"].head()"
   ]
  },
  {
   "cell_type": "markdown",
   "metadata": {},
   "source": [
    "Теперь избавимся от лишних символов в конце запроса"
   ]
  },
  {
   "cell_type": "code",
   "execution_count": 360,
   "metadata": {},
   "outputs": [],
   "source": [
    "data[\"reduced_request\"] = data[\"reduced_request\"].apply(lambda x: x[:x.find(\"&\")] if \"&\" in x else x)"
   ]
  },
  {
   "cell_type": "code",
   "execution_count": 361,
   "metadata": {},
   "outputs": [
    {
     "data": {
      "text/plain": [
       "0                           порно видео секс за деньги\n",
       "1    sad story скачать бесплатно mp3 в хорошем каче...\n",
       "2                                         ольгино баня\n",
       "3      фирменный магазин марко в г минске скидки акции\n",
       "4                                                порно\n",
       "Name: reduced_request, dtype: object"
      ]
     },
     "execution_count": 361,
     "metadata": {},
     "output_type": "execute_result"
    }
   ],
   "source": [
    "data[\"reduced_request\"].head()"
   ]
  },
  {
   "cell_type": "markdown",
   "metadata": {},
   "source": [
    "Приведем все строки к нижнему регистру"
   ]
  },
  {
   "cell_type": "code",
   "execution_count": 362,
   "metadata": {},
   "outputs": [],
   "source": [
    "data[\"reduced_request\"] = data[\"reduced_request\"].apply(lambda x: x.lower())"
   ]
  },
  {
   "cell_type": "markdown",
   "metadata": {},
   "source": [
    "Проведем \"наивную\" классификацию запросов, связанных с телевидением. Для этого составим словари с ключевыми словами\n",
    "direct - прямые запросы,\n",
    "channels - тв каналы,\n",
    "celeb - тв знаменитости,\n",
    "prog - тв передачи,\n",
    "connect - подключение тв"
   ]
  },
  {
   "cell_type": "code",
   "execution_count": 363,
   "metadata": {},
   "outputs": [],
   "source": [
    "request_dict = {\"direct\": [\"телевидение\", \"телевидении\", \"телевидения\", \"телевидению\",\n",
    "                           \" tv \", \"-tv\", \"tv-\", \" тв \", \"-тв\", \"тв-\", \"ntktdbltybt\"],\n",
    "               \"channels\": [\"телеканал\", \"канал\", \"rfyfk\", \" стс \", \" орт \", \" нтв \", \"рен тв\", \" тнт \",\n",
    "                           \" стс\", \" орт\", \" нтв\", \" рентв\", \" тнт\",\"орт \", \"нтв \", \"тнт \", \"стс \", \" ртр \", \" ртр\", \"ртр \"\n",
    "                            \"матч тв\", \"спорт тв\", \"россия 1\", \"россия1\", \"музтв\", \"муз тв\"],\n",
    "               \"celeb\": [\"максим дахненко\", \"комаров дмитрий\", \"елена степаненко\", \"яна рудковская\", \"ольга бузова\",\n",
    "                         \"дмитрий нагиев\", \"светлаков\", \"светлаков\", \"малахов\", \"батрутдинов\", \"канделаки\", \"ургант\"],\n",
    "               \"prog\": [\"камеди\", \"comedy\", \"воскресный вечер\", \"вести недели\", \"давай поженимся\", \"топ гир\", \"пусть говорят\",\n",
    "                       \"ревизорро\", \"битва экстасенсов\", \"дом 2\", \"вечерний ургант\", \"жди меня\", \"танцы со звездами\",\n",
    "                        \"орел и решка\"],\n",
    "               \"connect\": [\"спутниковое\", \"кабельное\", \"эфир\"]}"
   ]
  },
  {
   "cell_type": "code",
   "execution_count": 364,
   "metadata": {},
   "outputs": [],
   "source": [
    "request_class_dict={\"direct\": [], \"channels\": [], \"celeb\": [], \"prog\": [], \"connect\": []}\n",
    "for key in request_dict.keys():\n",
    "    for value in request_dict[key]:\n",
    "        request_class_dict[key].append(data[data[\"reduced_request\"].str.contains(value)][\"reduced_request\"])"
   ]
  },
  {
   "cell_type": "code",
   "execution_count": 365,
   "metadata": {},
   "outputs": [
    {
     "data": {
      "text/plain": [
       "15672                               телевидение ростелеком\n",
       "15859         интернет и телевидение от мтс личный кабинет\n",
       "30756    1канал телевидение прямой эфир сейчас новосибирск\n",
       "34630          смотреть бесплатно телевидение для взрослых\n",
       "43835                                          телевидение\n",
       "Name: reduced_request, dtype: object"
      ]
     },
     "execution_count": 365,
     "metadata": {},
     "output_type": "execute_result"
    }
   ],
   "source": [
    "request_class_dict[\"direct\"][0][:5]"
   ]
  },
  {
   "cell_type": "markdown",
   "metadata": {},
   "source": [
    "Теперь оценим долю запросов, связанных с телевидением в общем потоке. Учтем, что запросы в разных классах могут повторяться"
   ]
  },
  {
   "cell_type": "code",
   "execution_count": 366,
   "metadata": {},
   "outputs": [],
   "source": [
    "tv_queries_list = []\n",
    "for key in request_class_dict.keys():\n",
    "    for value in request_class_dict[key]:\n",
    "        tv_queries_list += value.tolist()"
   ]
  },
  {
   "cell_type": "code",
   "execution_count": 367,
   "metadata": {},
   "outputs": [
    {
     "data": {
      "text/plain": [
       "['матч тв прямой эфир',\n",
       " 'футбол барселона сегодня прямой эфир смотреть онлайн бесплатно сейчас',\n",
       " 'матч тв прямой эфир',\n",
       " 'матч тв прямой эфир',\n",
       " 'телеканал че смотреть онлайн прямой эфир бесплатно']"
      ]
     },
     "execution_count": 367,
     "metadata": {},
     "output_type": "execute_result"
    }
   ],
   "source": [
    "tv_queries_list[-5:]"
   ]
  },
  {
   "cell_type": "code",
   "execution_count": 368,
   "metadata": {},
   "outputs": [
    {
     "name": "stdout",
     "output_type": "stream",
     "text": [
      "16598\n",
      "9701\n"
     ]
    }
   ],
   "source": [
    "#длина списка запросов с повторениями\n",
    "print(len(tv_queries_list))\n",
    "#длина списка запросов без повторений\n",
    "unique_tv_queries = len(np.unique(tv_queries_list))\n",
    "print(unique_tv_queries)"
   ]
  },
  {
   "cell_type": "markdown",
   "metadata": {},
   "source": [
    "Доля запросов, связанных с телевидением, в общем потоке запросов, %"
   ]
  },
  {
   "cell_type": "code",
   "execution_count": 354,
   "metadata": {},
   "outputs": [
    {
     "name": "stdout",
     "output_type": "stream",
     "text": [
      "Доля запросов, связанных с телевидением, в общем потоке запросов, % 0.7274824278610547\n"
     ]
    }
   ],
   "source": [
    "print(\"Доля запросов, связанных с телевидением, в общем потоке запросов, %\", float(unique_tv_queries)/data.shape[0]*100)"
   ]
  },
  {
   "cell_type": "markdown",
   "metadata": {},
   "source": [
    "Оценим теперь долю каждого класса в запросах, связанных с телевидением"
   ]
  },
  {
   "cell_type": "code",
   "execution_count": 355,
   "metadata": {},
   "outputs": [
    {
     "name": "stdout",
     "output_type": "stream",
     "text": [
      "Доля direct 14.132563653231625 %\n",
      "Доля channels 67.07555922069889 %\n",
      "Доля celeb 2.711060715390166 %\n",
      "Доля prog 11.400886506545717 %\n",
      "Доля connect 13.802700752499742 %\n"
     ]
    }
   ],
   "source": [
    "for key in request_class_dict.keys():\n",
    "    class_queries_list = []\n",
    "    for value in request_class_dict[key]:\n",
    "        class_queries_list += value.tolist()\n",
    "    print(\"Доля \"+key, float(len(np.unique(class_queries_list)))/unique_tv_queries*100,\"%\")"
   ]
  },
  {
   "cell_type": "code",
   "execution_count": null,
   "metadata": {},
   "outputs": [],
   "source": []
  }
 ],
 "metadata": {
  "kernelspec": {
   "display_name": "Python 3",
   "language": "python",
   "name": "python3"
  },
  "language_info": {
   "codemirror_mode": {
    "name": "ipython",
    "version": 3
   },
   "file_extension": ".py",
   "mimetype": "text/x-python",
   "name": "python",
   "nbconvert_exporter": "python",
   "pygments_lexer": "ipython3",
   "version": "3.6.4"
  }
 },
 "nbformat": 4,
 "nbformat_minor": 2
}
